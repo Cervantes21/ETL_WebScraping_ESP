{
 "cells": [
  {
   "cell_type": "code",
   "execution_count": 1,
   "metadata": {},
   "outputs": [],
   "source": [
    "# Importamos nuestras librerías:\n",
    "\n",
    "from dotenv import load_dotenv # Nos permite trabajar con variables de entorno\n",
    "# útil para guardar contraseñas.\n",
    "\n",
    "import os # Manejador de sistemas\n",
    "\n",
    "import psycopg2 # Nos permite manipular PostgreSQL\n"
   ]
  },
  {
   "cell_type": "code",
   "execution_count": 3,
   "metadata": {},
   "outputs": [
    {
     "data": {
      "text/plain": [
       "True"
      ]
     },
     "execution_count": 3,
     "metadata": {},
     "output_type": "execute_result"
    }
   ],
   "source": [
    "\n",
    "# Cargar las variables de entorno desde el archivo .env\n",
    "load_dotenv()"
   ]
  },
  {
   "cell_type": "code",
   "execution_count": 4,
   "metadata": {},
   "outputs": [],
   "source": [
    "# Obtener el valor de la variable de entorno para la contraseña\n",
    "password = os.environ.get('DB_PASSWORD')\n",
    "\n",
    "# Establecer los detalles de conexión a la base de datos\n",
    "host = 'localhost'\n",
    "port = 5432\n",
    "database = 'postgres'\n",
    "user = 'postgres'\n"
   ]
  },
  {
   "cell_type": "code",
   "execution_count": 9,
   "metadata": {},
   "outputs": [],
   "source": [
    "# Leer el contenido del archivo SQL\n",
    "with open('./source/postgres_public_trades.sql', 'r') as file:\n",
    "    sql_script = file.read()\n",
    "\n",
    "\n",
    "# Conectar a la base de datos\n",
    "conn = psycopg2.connect(\n",
    "    host=host,\n",
    "    port=port,\n",
    "    database=database,\n",
    "    user=user,\n",
    "    password=password\n",
    ")\n",
    "\n",
    "# Crear un cursor para ejecutar las consultas\n",
    "cursor = conn.cursor()\n",
    "\n",
    "# Ejecutar el script SQL\n",
    "cursor.execute(sql_script)\n",
    "\n",
    "# Confirmar los cambios en la base de datos\n",
    "conn.commit()\n",
    "\n",
    "# Cerrar la conexión\n",
    "cursor.close()\n",
    "conn.close()"
   ]
  },
  {
   "cell_type": "code",
   "execution_count": null,
   "metadata": {},
   "outputs": [],
   "source": []
  }
 ],
 "metadata": {
  "kernelspec": {
   "display_name": "venv",
   "language": "python",
   "name": "python3"
  },
  "language_info": {
   "codemirror_mode": {
    "name": "ipython",
    "version": 3
   },
   "file_extension": ".py",
   "mimetype": "text/x-python",
   "name": "python",
   "nbconvert_exporter": "python",
   "pygments_lexer": "ipython3",
   "version": "3.9.13"
  },
  "orig_nbformat": 4
 },
 "nbformat": 4,
 "nbformat_minor": 2
}
