{
 "cells": [
  {
   "cell_type": "code",
   "execution_count": 1,
   "id": "5a1fb41a-dd2f-417e-b398-9533de374aa9",
   "metadata": {
    "tags": []
   },
   "outputs": [],
   "source": [
    "# Importar las librerías\n",
    "import pandas as pd\n",
    "from dotenv import load_dotenv\n",
    "import os\n",
    "from sqlalchemy import create_engine"
   ]
  },
  {
   "cell_type": "code",
   "execution_count": 2,
   "id": "8ecebed9-cbe1-4ae8-b818-b9653d27b8a4",
   "metadata": {
    "tags": []
   },
   "outputs": [],
   "source": [
    "# Cargar las variables de entorno desde el archivo .env\n",
    "load_dotenv()\n",
    "\n",
    "# Obtener el valor de la variable de entorno para la contraseña de la base de datos\n",
    "password = os.environ.get('DB_PASSWORD')"
   ]
  },
  {
   "cell_type": "code",
   "execution_count": 3,
   "id": "2da07acd-6fa2-4569-9e05-bd94ddd79b83",
   "metadata": {
    "tags": []
   },
   "outputs": [],
   "source": [
    "# Establecer los detalles de conexión a la base de datos\n",
    "host = 'localhost'\n",
    "port = 5432\n",
    "database = 'postgres'\n",
    "user = 'postgres'"
   ]
  },
  {
   "cell_type": "code",
   "execution_count": 4,
   "id": "7cc18bbb-381f-4d9b-96b3-050e16929fe1",
   "metadata": {
    "tags": []
   },
   "outputs": [],
   "source": [
    "# Crear la cadena de conexión SQLAlchemy\n",
    "db_url = f'postgresql://{user}:{password}@{host}:{port}/{database}'\n",
    "\n",
    "# Crear el motor de conexión a la base de datos\n",
    "engine = create_engine(db_url)"
   ]
  },
  {
   "cell_type": "code",
   "execution_count": null,
   "id": "25b40b7c-a7b2-42a9-80e5-92b80d331d08",
   "metadata": {
    "tags": []
   },
   "outputs": [],
   "source": [
    "# Ejecutar la consulta SELECT y almacenar los resultados en un DataFrame\n",
    "query = \"SELECT * FROM trades;\"\n",
    "df = pd.read_sql_query(query, engine)"
   ]
  },
  {
   "cell_type": "code",
   "execution_count": null,
   "id": "aa20735f-d703-4fd5-bc8e-452dcef5d0c1",
   "metadata": {},
   "outputs": [],
   "source": [
    "df_countries = pd.read_json('./../source/country_data.json')"
   ]
  },
  {
   "cell_type": "code",
   "execution_count": null,
   "id": "5865b2bf-7c6c-4ad2-bbd7-442b2031b227",
   "metadata": {
    "tags": []
   },
   "outputs": [],
   "source": [
    "df_codes = pd.read_csv('./../source/hs_codes.csv')"
   ]
  },
  {
   "cell_type": "code",
   "execution_count": null,
   "id": "f502b07e-493e-424a-9716-9f85e095ebcb",
   "metadata": {},
   "outputs": [],
   "source": []
  }
 ],
 "metadata": {
  "kernelspec": {
   "display_name": "Python 3 (ipykernel)",
   "language": "python",
   "name": "python3"
  },
  "language_info": {
   "codemirror_mode": {
    "name": "ipython",
    "version": 3
   },
   "file_extension": ".py",
   "mimetype": "text/x-python",
   "name": "python",
   "nbconvert_exporter": "python",
   "pygments_lexer": "ipython3",
   "version": "3.9.13"
  }
 },
 "nbformat": 4,
 "nbformat_minor": 5
}
