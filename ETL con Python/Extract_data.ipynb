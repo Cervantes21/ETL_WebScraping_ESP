{
 "cells": [
  {
   "cell_type": "code",
   "execution_count": 2,
   "id": "5a1fb41a-dd2f-417e-b398-9533de374aa9",
   "metadata": {
    "tags": []
   },
   "outputs": [],
   "source": [
    "# Importar las librerías\n",
    "import pandas as pd\n",
    "from dotenv import load_dotenv\n",
    "import os\n",
    "from sqlalchemy import create_engine"
   ]
  },
  {
   "cell_type": "code",
   "execution_count": 3,
   "id": "8ecebed9-cbe1-4ae8-b818-b9653d27b8a4",
   "metadata": {
    "tags": []
   },
   "outputs": [],
   "source": [
    "# Cargar las variables de entorno desde el archivo .env\n",
    "load_dotenv()\n",
    "\n",
    "# Obtener el valor de la variable de entorno para la contraseña de la base de datos\n",
    "password = os.environ.get('DB_PASSWORD')"
   ]
  },
  {
   "cell_type": "code",
   "execution_count": 4,
   "id": "2da07acd-6fa2-4569-9e05-bd94ddd79b83",
   "metadata": {
    "tags": []
   },
   "outputs": [],
   "source": [
    "# Establecer los detalles de conexión a la base de datos\n",
    "host = 'localhost'\n",
    "port = 5432\n",
    "database = 'postgres'\n",
    "user = 'postgres'"
   ]
  },
  {
   "cell_type": "code",
   "execution_count": 5,
   "id": "7cc18bbb-381f-4d9b-96b3-050e16929fe1",
   "metadata": {
    "tags": []
   },
   "outputs": [],
   "source": [
    "# Crear la cadena de conexión SQLAlchemy\n",
    "db_url = f'postgresql://{user}:{password}@{host}:{port}/{database}'\n",
    "\n",
    "# Crear el motor de conexión a la base de datos\n",
    "engine = create_engine(db_url)"
   ]
  },
  {
   "cell_type": "code",
   "execution_count": 6,
   "id": "25b40b7c-a7b2-42a9-80e5-92b80d331d08",
   "metadata": {
    "tags": []
   },
   "outputs": [
    {
     "name": "stdout",
     "output_type": "stream",
     "text": [
      "   country_code  year  comm_code       flow  trade_usd   kg  quantity   \n",
      "0           SYC  1998     890200     Import  1431426.0  0.0   23000.0  \\\n",
      "1           SYC  1998     890310     Import    31406.0  0.0    2545.0   \n",
      "2           SYC  1998     890310     Export      950.0  0.0     300.0   \n",
      "3           SYC  1998     890310  Re-Export      950.0  0.0     300.0   \n",
      "4           SYC  1998     890391     Import    18251.0  0.0     450.0   \n",
      "5           SYC  1998     890392     Import  1800859.0  0.0   58683.0   \n",
      "6           SYC  1998     890399     Import  2100927.0  0.0  172909.0   \n",
      "7           SYC  1998     890520     Import   201837.0  0.0  630000.0   \n",
      "8           SYC  1998     890710     Import    19683.0  0.0    3160.0   \n",
      "9           SYC  1998     890790     Import   221126.0  0.0   22169.0   \n",
      "10          SYC  1998     890800     Export     9505.0  0.0     978.0   \n",
      "11          SYC  1998     890800  Re-Export     9505.0  0.0     978.0   \n",
      "12          SYC  1997     890110     Import    70791.0  0.0    5451.0   \n",
      "13          SYC  1997     890310     Import    40882.0  0.0    3765.0   \n",
      "14          SYC  1997     890310     Export      282.0  0.0      60.0   \n",
      "15          SYC  1997     890310  Re-Export      282.0  0.0      60.0   \n",
      "16          SYC  1997     890392     Import  1355051.0  0.0   56995.0   \n",
      "17          SYC  1997     890399     Import   291178.0  0.0   11307.0   \n",
      "18          SYC  1997     890510     Import   251488.0  0.0    4954.0   \n",
      "19          SYC  1997     890590     Import    66642.0  0.0    5231.0   \n",
      "\n",
      "      quantity_name  \n",
      "0   Number of items  \n",
      "1   Number of items  \n",
      "2   Number of items  \n",
      "3   Number of items  \n",
      "4   Number of items  \n",
      "5   Number of items  \n",
      "6   Number of items  \n",
      "7   Number of items  \n",
      "8   Number of items  \n",
      "9   Number of items  \n",
      "10  Number of items  \n",
      "11  Number of items  \n",
      "12  Number of items  \n",
      "13  Number of items  \n",
      "14  Number of items  \n",
      "15  Number of items  \n",
      "16  Number of items  \n",
      "17  Number of items  \n",
      "18  Number of items  \n",
      "19  Number of items  \n"
     ]
    }
   ],
   "source": [
    "# Ejecutar la consulta SELECT y almacenar los resultados en un DataFrame\n",
    "query = \"SELECT * FROM trades LIMIT 20;\"\n",
    "df = pd.read_sql_query(query, engine)\n",
    "\n",
    "# Imprimir el DataFrame con los resultados\n",
    "print(df)"
   ]
  },
  {
   "cell_type": "code",
   "execution_count": null,
   "id": "aa20735f-d703-4fd5-bc8e-452dcef5d0c1",
   "metadata": {},
   "outputs": [],
   "source": []
  }
 ],
 "metadata": {
  "kernelspec": {
   "display_name": "Python 3 (ipykernel)",
   "language": "python",
   "name": "python3"
  },
  "language_info": {
   "codemirror_mode": {
    "name": "ipython",
    "version": 3
   },
   "file_extension": ".py",
   "mimetype": "text/x-python",
   "name": "python",
   "nbconvert_exporter": "python",
   "pygments_lexer": "ipython3",
   "version": "3.9.13"
  }
 },
 "nbformat": 4,
 "nbformat_minor": 5
}
